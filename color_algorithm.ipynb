{
 "cells": [
  {
   "cell_type": "code",
   "execution_count": 1,
   "metadata": {},
   "outputs": [],
   "source": [
    "from __future__ import print_function\n",
    "import binascii\n",
    "import struct\n",
    "from PIL import Image\n",
    "import numpy as np\n",
    "import scipy\n",
    "import scipy.misc\n",
    "import scipy.cluster"
   ]
  },
  {
   "cell_type": "code",
   "execution_count": 3,
   "metadata": {},
   "outputs": [
    {
     "name": "stdout",
     "output_type": "stream",
     "text": [
      "reading image\n",
      "finding clusters\n"
     ]
    },
    {
     "name": "stderr",
     "output_type": "stream",
     "text": [
      "/var/folders/kn/d6m3n8r52vd4544z7x_6p0dm0000gp/T/ipykernel_51057/2498064813.py:8: DeprecationWarning: scipy.product is deprecated and will be removed in SciPy 2.0.0, use numpy.product instead\n",
      "  ar = ar.reshape(scipy.product(shape[:2]), shape[2]).astype(float)\n"
     ]
    },
    {
     "name": "stdout",
     "output_type": "stream",
     "text": [
      "cluster centres:\n",
      " [[202.77458519   0.82840955  30.0070147 ]\n",
      " [254.48767663 254.49282506 254.43706868]\n",
      " [208.45780051   0.76434052  35.37431494]\n",
      " [233.45327103 177.62616822 179.0046729 ]\n",
      " [214.22592593  91.76666667 100.62592593]]\n",
      "most frequent is [254.48767663 254.49282506 254.43706868] (#fefefe)\n"
     ]
    },
    {
     "name": "stderr",
     "output_type": "stream",
     "text": [
      "/var/folders/kn/d6m3n8r52vd4544z7x_6p0dm0000gp/T/ipykernel_51057/2498064813.py:15: DeprecationWarning: scipy.histogram is deprecated and will be removed in SciPy 2.0.0, use numpy.histogram instead\n",
      "  counts, bins = scipy.histogram(vecs, len(codes))    # count occurrences\n",
      "/var/folders/kn/d6m3n8r52vd4544z7x_6p0dm0000gp/T/ipykernel_51057/2498064813.py:17: DeprecationWarning: scipy.argmax is deprecated and will be removed in SciPy 2.0.0, use numpy.argmax instead\n",
      "  index_max = scipy.argmax(counts)                    # find most frequent\n"
     ]
    }
   ],
   "source": [
    "NUM_CLUSTERS = 5\n",
    "\n",
    "print('reading image')\n",
    "im = Image.open('red_shirt.jpeg')\n",
    "im = im.resize((150, 150))      # optional, to reduce time\n",
    "ar = np.asarray(im)\n",
    "shape = ar.shape\n",
    "ar = ar.reshape(scipy.product(shape[:2]), shape[2]).astype(float)\n",
    "\n",
    "print('finding clusters')\n",
    "codes, dist = scipy.cluster.vq.kmeans(ar, NUM_CLUSTERS)\n",
    "print('cluster centres:\\n', codes)\n",
    "\n",
    "vecs, dist = scipy.cluster.vq.vq(ar, codes)         # assign codes\n",
    "counts, bins = scipy.histogram(vecs, len(codes))    # count occurrences\n",
    "\n",
    "index_max = scipy.argmax(counts)                    # find most frequent\n",
    "peak = codes[index_max]\n",
    "colour = binascii.hexlify(bytearray(int(c) for c in peak)).decode('ascii')\n",
    "print('most frequent is %s (#%s)' % (peak, colour))"
   ]
  },
  {
   "cell_type": "code",
   "execution_count": 5,
   "metadata": {},
   "outputs": [
    {
     "ename": "ModuleNotFoundError",
     "evalue": "No module named 'colorthief'",
     "output_type": "error",
     "traceback": [
      "\u001b[0;31m---------------------------------------------------------------------------\u001b[0m",
      "\u001b[0;31mModuleNotFoundError\u001b[0m                       Traceback (most recent call last)",
      "\u001b[1;32m/Users/shriyadave/Documents/dev_ada/color_algorithm.ipynb Cell 3\u001b[0m in \u001b[0;36m<cell line: 1>\u001b[0;34m()\u001b[0m\n\u001b[0;32m----> <a href='vscode-notebook-cell:/Users/shriyadave/Documents/dev_ada/color_algorithm.ipynb#W4sZmlsZQ%3D%3D?line=0'>1</a>\u001b[0m \u001b[39mfrom\u001b[39;00m \u001b[39mcolorthief\u001b[39;00m \u001b[39mimport\u001b[39;00m ColorThief\n",
      "\u001b[0;31mModuleNotFoundError\u001b[0m: No module named 'colorthief'"
     ]
    }
   ],
   "source": [
    "from colorthief import ColorThief"
   ]
  },
  {
   "cell_type": "code",
   "execution_count": 4,
   "metadata": {},
   "outputs": [
    {
     "ename": "ModuleNotFoundError",
     "evalue": "No module named 'colorthief'",
     "output_type": "error",
     "traceback": [
      "\u001b[0;31m---------------------------------------------------------------------------\u001b[0m",
      "\u001b[0;31mModuleNotFoundError\u001b[0m                       Traceback (most recent call last)",
      "\u001b[1;32m/Users/shriyadave/Documents/dev_ada/color_algorithm.ipynb Cell 3\u001b[0m in \u001b[0;36m<cell line: 1>\u001b[0;34m()\u001b[0m\n\u001b[0;32m----> <a href='vscode-notebook-cell:/Users/shriyadave/Documents/dev_ada/color_algorithm.ipynb#W2sZmlsZQ%3D%3D?line=0'>1</a>\u001b[0m \u001b[39mfrom\u001b[39;00m \u001b[39mcolorthief\u001b[39;00m \u001b[39mimport\u001b[39;00m ColorThief\n\u001b[1;32m      <a href='vscode-notebook-cell:/Users/shriyadave/Documents/dev_ada/color_algorithm.ipynb#W2sZmlsZQ%3D%3D?line=1'>2</a>\u001b[0m color_thief \u001b[39m=\u001b[39m ColorThief(\u001b[39m'\u001b[39m\u001b[39mred_shirt.jpeg\u001b[39m\u001b[39m'\u001b[39m)\n\u001b[1;32m      <a href='vscode-notebook-cell:/Users/shriyadave/Documents/dev_ada/color_algorithm.ipynb#W2sZmlsZQ%3D%3D?line=2'>3</a>\u001b[0m \u001b[39m# get the dominant color\u001b[39;00m\n",
      "\u001b[0;31mModuleNotFoundError\u001b[0m: No module named 'colorthief'"
     ]
    }
   ],
   "source": [
    "color_thief = ColorThief('red_shirt.jpeg')\n",
    "# get the dominant color\n",
    "dominant_color = color_thief.get_color(quality=1)\n",
    "print(dominant_color)\n",
    "palette = color_thief.get_palette(color_count=6)\n",
    "print(palette)"
   ]
  },
  {
   "cell_type": "code",
   "execution_count": null,
   "metadata": {},
   "outputs": [],
   "source": []
  }
 ],
 "metadata": {
  "kernelspec": {
   "display_name": "Python 3.10.6 64-bit",
   "language": "python",
   "name": "python3"
  },
  "language_info": {
   "codemirror_mode": {
    "name": "ipython",
    "version": 3
   },
   "file_extension": ".py",
   "mimetype": "text/x-python",
   "name": "python",
   "nbconvert_exporter": "python",
   "pygments_lexer": "ipython3",
   "version": "3.10.6"
  },
  "orig_nbformat": 4,
  "vscode": {
   "interpreter": {
    "hash": "aee8b7b246df8f9039afb4144a1f6fd8d2ca17a180786b69acc140d282b71a49"
   }
  }
 },
 "nbformat": 4,
 "nbformat_minor": 2
}
